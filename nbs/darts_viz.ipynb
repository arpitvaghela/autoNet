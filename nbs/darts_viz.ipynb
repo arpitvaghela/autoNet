{
 "cells": [
  {
   "cell_type": "code",
   "execution_count": 5,
   "metadata": {},
   "outputs": [],
   "source": [
    "from darts import visualize\n",
    "from darts.genotypes import Genotype\n"
   ]
  },
  {
   "cell_type": "markdown",
   "metadata": {},
   "source": [
    "# Darts with Greedy Genotype Search\n",
    "\n",
    "```python\n",
    "p1 = [\n",
    "        \"max_pool_3x3\",\n",
    "        \"skip_connect\",  # identity\n",
    "         \"sep_conv_5x5\",\n",
    "        \"dil_conv_3x3\",\n",
    "        \"none\",\n",
    "    ]\n",
    "p2 = [\n",
    "        \"avg_pool_3x3\",\n",
    "        \"sep_conv_3x3\",\n",
    "        \"sep_conv_7x7\",\n",
    "        \"dil_conv_5x5\",\n",
    "        \"none\",\n",
    "    ]\n",
    "```\n"
   ]
  },
  {
   "cell_type": "code",
   "execution_count": 21,
   "metadata": {},
   "outputs": [],
   "source": [
    "p1  = [\n",
    "Genotype(normal=[[(\"skip_connect\", 1), (\"max_pool_3x3\", 0)], [(\"dil_conv_3x3\", 1), (\"sep_conv_5x5\", 2)],  [(\"sep_conv_5x5\", 2), (\"dil_conv_3x3\", 3)],[(\"sep_conv_5x5\", 2), (\"sep_conv_5x5\", 4)],],normal_concat=range(2, 6), reduce=[[(\"skip_connect\", 1), (\"max_pool_3x3\", 0)], [(\"skip_connect\", 2), (\"skip_connect\", 1)], [(\"sep_conv_5x5\", 1), (\"skip_connect\", 3)], [(\"skip_connect\", 4), (\"max_pool_3x3\", 1)]], reduce_concat=range(2, 6)),\n",
    "Genotype(normal=[[('skip_connect', 1), ('skip_connect', 0)], [('dil_conv_3x3', 1), ('sep_conv_5x5', 2)], [('sep_conv_5x5', 2), ('dil_conv_3x3', 3)], [('sep_conv_5x5', 2), ('dil_conv_3x3', 4)]], normal_concat=range(2, 6), reduce=[[('max_pool_3x3', 0), ('skip_connect', 1)], [('skip_connect', 2), ('skip_connect', 0)], [('sep_conv_5x5', 3), ('sep_conv_5x5', 1)], [('skip_connect', 4), ('max_pool_3x3', 0)]], reduce_concat=range(2, 6)),\n",
    "Genotype(normal=[[('sep_conv_5x5', 0), ('skip_connect', 1)], [('dil_conv_3x3', 0), ('dil_conv_3x3', 1)], [('sep_conv_5x5', 2), ('dil_conv_3x3', 3)], [('sep_conv_5x5', 2), ('dil_conv_3x3', 0)]], normal_concat=range(2, 6), reduce=[[('max_pool_3x3', 0), ('sep_conv_5x5', 1)], [('max_pool_3x3', 0), ('skip_connect', 2)], [('sep_conv_5x5', 3), ('sep_conv_5x5', 1)], [('sep_conv_5x5', 2), ('max_pool_3x3', 0)]], reduce_concat=range(2, 6)),\n",
    "Genotype(normal=[[('sep_conv_5x5', 0), ('skip_connect', 1)], [('dil_conv_3x3', 0), ('sep_conv_5x5', 2)], [('sep_conv_5x5', 2), ('dil_conv_3x3', 3)], [('sep_conv_5x5', 3), ('sep_conv_5x5', 4)]], normal_concat=range(2, 6), reduce=[[('sep_conv_5x5', 1), ('sep_conv_5x5', 0)], [('skip_connect', 0), ('dil_conv_3x3', 1)], [('sep_conv_5x5', 3), ('sep_conv_5x5', 2)], [('sep_conv_5x5', 2), ('dil_conv_3x3', 3)]], reduce_concat=range(2, 6)),\n",
    "Genotype(normal=[[('sep_conv_5x5', 0), ('skip_connect', 1)], [('dil_conv_3x3', 0), ('sep_conv_5x5', 2)], [('sep_conv_5x5', 2), ('sep_conv_5x5', 0)], [('sep_conv_5x5', 3), ('sep_conv_5x5', 4)]], normal_concat=range(2, 6), reduce=[[('sep_conv_5x5', 1), ('sep_conv_5x5', 0)], [('dil_conv_3x3', 1), ('skip_connect', 0)], [('sep_conv_5x5', 3), ('dil_conv_3x3', 0)], [('dil_conv_3x3', 4), ('sep_conv_5x5', 2)]], reduce_concat=range(2, 6)),\n",
    "]\n",
    "p1_best = Genotype(normal=[[('sep_conv_5x5', 0), ('skip_connect', 1)], [('dil_conv_3x3', 0), ('sep_conv_5x5', 2)], [('sep_conv_5x5', 2), ('sep_conv_5x5', 0)], [('sep_conv_5x5', 3), ('sep_conv_5x5', 4)]], normal_concat=range(2, 6), reduce=[[('sep_conv_5x5', 1), ('sep_conv_5x5', 0)], [('dil_conv_3x3', 1), ('skip_connect', 0)], [('sep_conv_5x5', 3), ('dil_conv_3x3', 0)], [('dil_conv_3x3', 4), ('sep_conv_5x5', 2)]], reduce_concat=range(2, 6))\n",
    "\n",
    "p2 = [\n",
    "Genotype(normal=[[('dil_conv_5x5', 0), ('sep_conv_3x3', 1)], [('dil_conv_5x5', 2), ('sep_conv_7x7', 1)], [('avg_pool_3x3', 0), ('sep_conv_3x3', 2)], [('dil_conv_5x5', 4), ('dil_conv_5x5', 2)]], normal_concat=range(2, 6), reduce=[[('sep_conv_3x3', 1), ('dil_conv_5x5', 0)], [('dil_conv_5x5', 2), ('sep_conv_3x3', 0)], [('sep_conv_7x7', 3), ('sep_conv_7x7', 0)], [('dil_conv_5x5', 1), ('avg_pool_3x3', 0)]], reduce_concat=range(2, 6)),\n",
    "Genotype(normal=[[('sep_conv_7x7', 0), ('dil_conv_5x5', 1)], [('dil_conv_5x5', 2), ('dil_conv_5x5', 0)], [('dil_conv_5x5', 1), ('sep_conv_3x3', 3)], [('dil_conv_5x5', 4), ('avg_pool_3x3', 0)]], normal_concat=range(2, 6), reduce=[[('sep_conv_3x3', 1), ('avg_pool_3x3', 0)], [('dil_conv_5x5', 0), ('sep_conv_3x3', 1)], [('sep_conv_7x7', 0), ('sep_conv_7x7', 3)], [('dil_conv_5x5', 3), ('sep_conv_7x7', 4)]], reduce_concat=range(2, 6)),\n",
    "Genotype(normal=[[('sep_conv_7x7', 0), ('dil_conv_5x5', 1)], [('dil_conv_5x5', 2), ('dil_conv_5x5', 1)], [('dil_conv_5x5', 1), ('sep_conv_3x3', 0)], [('dil_conv_5x5', 4), ('avg_pool_3x3', 0)]], normal_concat=range(2, 6), reduce=[[('avg_pool_3x3', 0), ('sep_conv_3x3', 1)], [('dil_conv_5x5', 0), ('avg_pool_3x3', 1)], [('sep_conv_7x7', 0), ('sep_conv_7x7', 2)], [('dil_conv_5x5', 3), ('sep_conv_7x7', 4)]], reduce_concat=range(2, 6)),\n",
    "Genotype(normal=[[('sep_conv_7x7', 0), ('dil_conv_5x5', 1)], [('sep_conv_3x3', 1), ('avg_pool_3x3', 0)], [('dil_conv_5x5', 1), ('sep_conv_7x7', 2)], [('dil_conv_5x5', 4), ('dil_conv_5x5', 2)]], normal_concat=range(2, 6), reduce=[[('avg_pool_3x3', 0), ('sep_conv_3x3', 1)], [('dil_conv_5x5', 0), ('avg_pool_3x3', 1)], [('sep_conv_7x7', 2), ('sep_conv_7x7', 0)], [('dil_conv_5x5', 3), ('sep_conv_7x7', 4)]], reduce_concat=range(2, 6)),\n",
    "Genotype(normal=[[('sep_conv_7x7', 0), ('dil_conv_5x5', 1)], [('sep_conv_3x3', 1), ('dil_conv_5x5', 2)], [('dil_conv_5x5', 1), ('sep_conv_7x7', 2)], [('dil_conv_5x5', 4), ('dil_conv_5x5', 2)]], normal_concat=range(2, 6), reduce=[[('avg_pool_3x3', 0), ('dil_conv_5x5', 1)], [('dil_conv_5x5', 0), ('avg_pool_3x3', 1)], [('sep_conv_7x7', 2), ('sep_conv_7x7', 0)], [('dil_conv_5x5', 3), ('sep_conv_7x7', 4)]], reduce_concat=range(2, 6)),\n",
    "]\n",
    "p2_best = Genotype(normal=[[('sep_conv_7x7', 0), ('dil_conv_5x5', 1)], [('sep_conv_3x3', 1), ('dil_conv_5x5', 2)], [('dil_conv_5x5', 1), ('sep_conv_3x3', 0)], [('dil_conv_5x5', 4), ('sep_conv_3x3', 3)]], normal_concat=range(2, 6), reduce=[[('avg_pool_3x3', 0), ('avg_pool_3x3', 1)], [('dil_conv_5x5', 0), ('avg_pool_3x3', 1)], [('sep_conv_7x7', 2), ('sep_conv_7x7', 0)], [('dil_conv_5x5', 3), ('sep_conv_7x7', 4)]], reduce_concat=range(2, 6))\n",
    "p2_prec = (81.3750, 78.3250)\n",
    "\n",
    "p3 = [\n",
    "Genotype(normal=[[('dil_conv_5x5', 0), ('skip_connect', 1)], [('sep_conv_7x7', 1), ('sep_conv_5x5', 2)], [('skip_connect', 3), ('sep_conv_7x7', 2)], [('sep_conv_7x7', 4), ('skip_connect', 2)]], normal_concat=range(2, 6), reduce=[[('sep_conv_3x3', 1), ('dil_conv_5x5', 0)], [('sep_conv_5x5', 2), ('sep_conv_7x7', 0)], [('dil_conv_5x5', 0), ('skip_connect', 3)], [('dil_conv_5x5', 1), ('sep_conv_5x5', 3)]], reduce_concat=range(2, 6)),\n",
    "Genotype(normal=[[('sep_conv_7x7', 0), ('skip_connect', 1)], [('sep_conv_7x7', 1), ('sep_conv_5x5', 2)], [('skip_connect', 3), ('sep_conv_7x7', 2)], [('skip_connect', 1), ('sep_conv_7x7', 4)]], normal_concat=range(2, 6), reduce=[[('dil_conv_5x5', 0), ('dil_conv_5x5', 1)], [('skip_connect', 2), ('sep_conv_3x3', 0)], [('dil_conv_3x3', 3), ('dil_conv_3x3', 1)], [('sep_conv_7x7', 1), ('dil_conv_3x3', 2)]], reduce_concat=range(2, 6)),\n",
    "Genotype(normal=[[('skip_connect', 1), ('sep_conv_7x7', 0)], [('sep_conv_5x5', 2), ('sep_conv_7x7', 1)], [('skip_connect', 0), ('skip_connect', 3)], [('sep_conv_7x7', 4), ('sep_conv_3x3', 2)]], normal_concat=range(2, 6), reduce=[[('dil_conv_5x5', 0), ('dil_conv_3x3', 1)], [('skip_connect', 2), ('sep_conv_5x5', 0)], [('dil_conv_3x3', 1), ('dil_conv_3x3', 0)], [('sep_conv_7x7', 1), ('dil_conv_5x5', 4)]], reduce_concat=range(2, 6)),\n",
    "Genotype(normal=[[('sep_conv_7x7', 0), ('skip_connect', 1)], [('sep_conv_7x7', 1), ('sep_conv_5x5', 2)], [('skip_connect', 3), ('skip_connect', 0)], [('sep_conv_7x7', 0), ('sep_conv_7x7', 4)]], normal_concat=range(2, 6), reduce=[[('dil_conv_3x3', 1), ('sep_conv_5x5', 0)], [('sep_conv_5x5', 0), ('skip_connect', 1)], [('dil_conv_3x3', 1), ('dil_conv_3x3', 0)], [('dil_conv_5x5', 1), ('dil_conv_5x5', 4)]], reduce_concat=range(2, 6)),\n",
    "Genotype(normal=[[('sep_conv_7x7', 0), ('sep_conv_5x5', 1)], [('sep_conv_5x5', 2), ('dil_conv_5x5', 0)], [('skip_connect', 0), ('skip_connect', 3)], [('sep_conv_7x7', 0), ('dil_conv_3x3', 1)]], normal_concat=range(2, 6), reduce=[[('skip_connect', 0), ('dil_conv_3x3', 1)], [('sep_conv_5x5', 0), ('skip_connect', 1)], [('dil_conv_3x3', 1), ('dil_conv_3x3', 0)], [('dil_conv_5x5', 1), ('sep_conv_7x7', 3)]], reduce_concat=range(2, 6)),\n",
    "Genotype(normal=[[('sep_conv_7x7', 0), ('dil_conv_5x5', 1)], [('sep_conv_5x5', 2), ('dil_conv_5x5', 0)], [('sep_conv_3x3', 0), ('sep_conv_7x7', 1)], [('dil_conv_3x3', 1), ('sep_conv_7x7', 0)]], normal_concat=range(2, 6), reduce=[[('skip_connect', 1), ('dil_conv_3x3', 0)], [('dil_conv_5x5', 1), ('sep_conv_5x5', 0)], [('sep_conv_7x7', 1), ('dil_conv_3x3', 0)], [('dil_conv_5x5', 1), ('sep_conv_7x7', 3)]], reduce_concat=range(2, 6)),\n",
    "Genotype(normal=[[('sep_conv_7x7', 0), ('dil_conv_5x5', 1)], [('sep_conv_5x5', 2), ('dil_conv_5x5', 0)], [('sep_conv_3x3', 0), ('sep_conv_7x7', 1)], [('dil_conv_3x3', 1), ('dil_conv_5x5', 3)]], normal_concat=range(2, 6), reduce=[[('skip_connect', 1), ('sep_conv_5x5', 0)], [('dil_conv_5x5', 1), ('sep_conv_5x5', 0)], [('sep_conv_7x7', 1), ('sep_conv_7x7', 0)], [('sep_conv_7x7', 3), ('dil_conv_5x5', 1)]], reduce_concat=range(2, 6)),\n",
    "Genotype(normal=[[('dil_conv_5x5', 1), ('sep_conv_7x7', 0)], [('sep_conv_5x5', 2), ('dil_conv_5x5', 0)], [('sep_conv_3x3', 0), ('sep_conv_7x7', 1)], [('dil_conv_3x3', 1), ('dil_conv_5x5', 3)]], normal_concat=range(2, 6), reduce=[[('skip_connect', 1), ('dil_conv_3x3', 0)], [('dil_conv_5x5', 1), ('sep_conv_5x5', 0)], [('sep_conv_7x7', 1), ('sep_conv_7x7', 0)], [('sep_conv_7x7', 3), ('dil_conv_5x5', 1)]], reduce_concat=range(2, 6))\n",
    "]\n",
    "p3_best = Genotype(normal=[[('dil_conv_5x5', 1), ('sep_conv_7x7', 0)], [('sep_conv_5x5', 2), ('dil_conv_5x5', 0)], [('sep_conv_3x3', 0), ('sep_conv_7x7', 1)], [('dil_conv_3x3', 1), ('dil_conv_5x5', 3)]], normal_concat=range(2, 6), reduce=[[('skip_connect', 1), ('dil_conv_3x3', 0)], [('dil_conv_5x5', 1), ('sep_conv_5x5', 0)], [('sep_conv_7x7', 1), ('sep_conv_7x7', 0)], [('sep_conv_7x7', 3), ('dil_conv_5x5', 1)]], reduce_concat=range(2, 6))\n",
    "p3_prec = (86.35, 79.30)\n"
   ]
  },
  {
   "cell_type": "code",
   "execution_count": 22,
   "metadata": {},
   "outputs": [
    {
     "data": {
      "text/plain": [
       "['max_pool_3x3', 'skip_connect', 'sep_conv_5x5', 'dil_conv_3x3', 'none']"
      ]
     },
     "execution_count": 22,
     "metadata": {},
     "output_type": "execute_result"
    }
   ],
   "source": [
    "p1_genotypes = ['max_pool_3x3', 'skip_connect', 'sep_conv_5x5', 'dil_conv_3x3', 'none']\n",
    "p2_genotypes = ['avg_pool_3x3', 'sep_conv_3x3', 'sep_conv_7x7', 'dil_conv_5x5', 'none'] \n",
    "p3_genotypes = ['sep_conv_5x5', 'skip_connect', 'dil_conv_3x3', 'dil_conv_5x5', 'sep_conv_3x3', 'sep_conv_7x7', 'none']\n",
    "p1_genotypes"
   ]
  },
  {
   "cell_type": "code",
   "execution_count": 26,
   "metadata": {},
   "outputs": [],
   "source": [
    "for i,g in enumerate(p1):\n",
    "    visualize.plot(g.normal,f\"./plots/p1/g{i}\", caption=f\"Darts Gready(S1): Epochs {i*2}\")\n",
    "    visualize.plot(g.reduce,f\"./plots/p1/g{i}_reduce\", caption=f\"Darts Gready(S1): Epochs {i*2}\")\n",
    "\n",
    "visualize.plot(p1_best.normal,f\"./plots/p1/gbest\",caption=f\"Darts Gready(S1): Best Genotype\")\n",
    "visualize.plot(p1_best.reduce,f\"./plots/p1/gbest_reduce\",caption=f\"Darts Gready(S1): Best Genotype\")\n",
    "\n",
    "for i,g in enumerate(p2):\n",
    "    visualize.plot(g.normal,f\"./plots/p2/g{i}\", caption=f\"Darts Gready(S2): Epochs {i*2}\")\n",
    "    visualize.plot(g.reduce,f\"./plots/p2/g{i}_reduce\", caption=f\"Darts Gready(S2): Epochs {i*2}\")\n",
    "\n",
    "visualize.plot(p2_best.normal,f\"./plots/p2/gbest\",caption=f\"Darts Gready(S2): Best Genotype\")\n",
    "visualize.plot(p2_best.reduce,f\"./plots/p2/gbest_reduce\",caption=f\"Darts Gready(S2): Best Genotype\")\n",
    "\n",
    "for i,g in enumerate(p3):\n",
    "    visualize.plot(g.normal,f\"./plots/p3/g{i}\", caption=f\"Darts Gready(Sfinal): Epochs {i*2}\")\n",
    "    visualize.plot(g.reduce,f\"./plots/p3/g{i}_reduce\", caption=f\"Darts Gready(Sfinal): Epochs {i*2}\")\n",
    "\n",
    "visualize.plot(p3_best.normal,f\"./plots/p3/gbest\",caption=f\"Darts Gready(Sfinal): Best Genotype\")\n",
    "visualize.plot(p3_best.reduce,f\"./plots/p3/gbest_reduce\",caption=f\"Darts Gready(Sfinal): Best Genotype\")\n"
   ]
  },
  {
   "cell_type": "code",
   "execution_count": 27,
   "metadata": {},
   "outputs": [],
   "source": [
    "d = [\n",
    "Genotype(normal=[[('dil_conv_5x5', 1), ('dil_conv_5x5', 0)], [('dil_conv_5x5', 1), ('sep_conv_5x5', 0)], [('dil_conv_5x5', 1), ('dil_conv_5x5', 2)], [('dil_conv_5x5', 0), ('sep_conv_7x7', 4)]], normal_concat=range(2, 6), reduce=[[('max_pool_3x3', 0), ('skip_connect', 1)], [('skip_connect', 2), ('dil_conv_3x3', 1)], [('sep_conv_5x5', 2), ('sep_conv_5x5', 1)], [('max_pool_3x3', 0), ('sep_conv_5x5', 2)]], reduce_concat=range(2, 6)),\n",
    "Genotype(normal=[[('sep_conv_3x3', 0), ('sep_conv_5x5', 1)], [('sep_conv_3x3', 2), ('sep_conv_7x7', 1)], [('dil_conv_5x5', 2), ('sep_conv_5x5', 1)], [('dil_conv_5x5', 0), ('sep_conv_7x7', 4)]], normal_concat=range(2, 6), reduce=[[('sep_conv_3x3', 1), ('sep_conv_7x7', 0)], [('dil_conv_3x3', 2), ('sep_conv_5x5', 1)], [('sep_conv_5x5', 2), ('max_pool_3x3', 1)], [('sep_conv_5x5', 3), ('sep_conv_3x3', 4)]], reduce_concat=range(2, 6)),\n",
    "Genotype(normal=[[('sep_conv_3x3', 0), ('sep_conv_5x5', 1)], [('sep_conv_3x3', 0), ('dil_conv_5x5', 2)], [('dil_conv_5x5', 2), ('dil_conv_3x3', 3)], [('dil_conv_5x5', 0), ('sep_conv_7x7', 4)]], normal_concat=range(2, 6), reduce=[[('sep_conv_3x3', 1), ('sep_conv_7x7', 0)], [('sep_conv_7x7', 2), ('sep_conv_5x5', 1)], [('sep_conv_5x5', 2), ('max_pool_3x3', 0)], [('sep_conv_5x5', 3), ('sep_conv_3x3', 4)]], reduce_concat=range(2, 6)),\n",
    "Genotype(normal=[[('sep_conv_3x3', 0), ('sep_conv_5x5', 1)], [('sep_conv_3x3', 0), ('dil_conv_3x3', 2)], [('sep_conv_3x3', 1), ('dil_conv_3x3', 3)], [('dil_conv_5x5', 0), ('dil_conv_5x5', 4)]], normal_concat=range(2, 6), reduce=[[('sep_conv_3x3', 1), ('sep_conv_7x7', 0)], [('sep_conv_7x7', 2), ('sep_conv_5x5', 1)], [('sep_conv_5x5', 2), ('skip_connect', 3)], [('sep_conv_5x5', 3), ('sep_conv_3x3', 4)]], reduce_concat=range(2, 6)),\n",
    "Genotype(normal=[[('sep_conv_3x3', 0), ('sep_conv_5x5', 1)], [('sep_conv_3x3', 0), ('dil_conv_3x3', 2)], [('sep_conv_3x3', 1), ('sep_conv_7x7', 3)], [('sep_conv_5x5', 0), ('dil_conv_5x5', 4)]], normal_concat=range(2, 6), reduce=[[('sep_conv_3x3', 1), ('max_pool_3x3', 0)], [('sep_conv_7x7', 2), ('max_pool_3x3', 1)], [('skip_connect', 3), ('sep_conv_5x5', 2)], [('sep_conv_5x5', 3), ('dil_conv_5x5', 2)]], reduce_concat=range(2, 6)),\n",
    "Genotype(normal=[[('sep_conv_3x3', 0), ('sep_conv_5x5', 1)], [('sep_conv_3x3', 0), ('dil_conv_3x3', 2)], [('sep_conv_3x3', 1), ('sep_conv_5x5', 2)], [('dil_conv_5x5', 4), ('sep_conv_5x5', 0)]], normal_concat=range(2, 6), reduce=[[('max_pool_3x3', 0), ('sep_conv_3x3', 1)], [('sep_conv_7x7', 2), ('max_pool_3x3', 1)], [('skip_connect', 3), ('sep_conv_5x5', 2)], [('sep_conv_5x5', 3), ('dil_conv_5x5', 2)]], reduce_concat=range(2, 6)),\n",
    "Genotype(normal=[[('sep_conv_3x3', 0), ('sep_conv_5x5', 1)], [('dil_conv_3x3', 2), ('sep_conv_3x3', 0)], [('sep_conv_5x5', 2), ('sep_conv_3x3', 1)], [('dil_conv_5x5', 4), ('dil_conv_5x5', 0)]], normal_concat=range(2, 6), reduce=[[('max_pool_3x3', 0), ('sep_conv_3x3', 1)], [('max_pool_3x3', 1), ('dil_conv_5x5', 2)], [('skip_connect', 3), ('max_pool_3x3', 0)], [('sep_conv_5x5', 3), ('dil_conv_5x5', 2)]], reduce_concat=range(2, 6)),\n",
    "Genotype(normal=[[('sep_conv_3x3', 0), ('sep_conv_3x3', 1)], [('dil_conv_3x3', 2), ('sep_conv_5x5', 0)], [('sep_conv_5x5', 2), ('sep_conv_3x3', 1)], [('dil_conv_5x5', 4), ('dil_conv_5x5', 0)]], normal_concat=range(2, 6), reduce=[[('max_pool_3x3', 0), ('max_pool_3x3', 1)], [('max_pool_3x3', 1), ('dil_conv_5x5', 2)], [('skip_connect', 3), ('max_pool_3x3', 0)], [('dil_conv_5x5', 2), ('sep_conv_5x5', 3)]], reduce_concat=range(2, 6)),\n",
    "]\n",
    "d_prec = (89.25,80.65)\n",
    "for i,g in enumerate(d):\n",
    "    visualize.plot(g.normal,f\"./plots/d/g{i}\", caption=f\"Darts: Epochs {i*2}\")\n",
    "    visualize.plot(g.reduce,f\"./plots/d/g{i}_reduce\", caption=f\"Darts: Epochs {i*2}\")\n",
    "\n",
    "visualize.plot(d[-1].normal,f\"./plots/d/gbest\",caption=f\"Darts: Best Genotype\")\n",
    "visualize.plot(d[-1].reduce,f\"./plots/d/gbest_reduce\",caption=f\"Darts: Best Genotype\")\n",
    "\n"
   ]
  },
  {
   "cell_type": "code",
   "execution_count": null,
   "metadata": {},
   "outputs": [],
   "source": []
  }
 ],
 "metadata": {
  "interpreter": {
   "hash": "11b01b9c5b8ff60b99e90016c0fc35672e8bff0e840ae7e3fc812494c63e782d"
  },
  "kernelspec": {
   "display_name": "Python 3.9.6 64-bit ('syft': conda)",
   "language": "python",
   "name": "python3"
  },
  "language_info": {
   "codemirror_mode": {
    "name": "ipython",
    "version": 3
   },
   "file_extension": ".py",
   "mimetype": "text/x-python",
   "name": "python",
   "nbconvert_exporter": "python",
   "pygments_lexer": "ipython3",
   "version": "3.9.6"
  },
  "orig_nbformat": 4
 },
 "nbformat": 4,
 "nbformat_minor": 2
}
